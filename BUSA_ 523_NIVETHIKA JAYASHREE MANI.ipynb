{
 "cells": [
  {
   "cell_type": "markdown",
   "id": "9fcb02ce",
   "metadata": {},
   "source": [
    "# IMPORTING THE DATA "
   ]
  },
  {
   "cell_type": "code",
   "execution_count": 15,
   "id": "93fc4d4b",
   "metadata": {},
   "outputs": [
    {
     "data": {
      "text/html": [
       "<div>\n",
       "<style scoped>\n",
       "    .dataframe tbody tr th:only-of-type {\n",
       "        vertical-align: middle;\n",
       "    }\n",
       "\n",
       "    .dataframe tbody tr th {\n",
       "        vertical-align: top;\n",
       "    }\n",
       "\n",
       "    .dataframe thead th {\n",
       "        text-align: right;\n",
       "    }\n",
       "</style>\n",
       "<table border=\"1\" class=\"dataframe\">\n",
       "  <thead>\n",
       "    <tr style=\"text-align: right;\">\n",
       "      <th></th>\n",
       "      <th>Age</th>\n",
       "      <th>Year</th>\n",
       "      <th>Auxillary nodes</th>\n",
       "      <th>Survival</th>\n",
       "    </tr>\n",
       "  </thead>\n",
       "  <tbody>\n",
       "    <tr>\n",
       "      <th>0</th>\n",
       "      <td>30</td>\n",
       "      <td>62</td>\n",
       "      <td>3</td>\n",
       "      <td>1</td>\n",
       "    </tr>\n",
       "    <tr>\n",
       "      <th>1</th>\n",
       "      <td>30</td>\n",
       "      <td>65</td>\n",
       "      <td>0</td>\n",
       "      <td>1</td>\n",
       "    </tr>\n",
       "    <tr>\n",
       "      <th>2</th>\n",
       "      <td>31</td>\n",
       "      <td>59</td>\n",
       "      <td>2</td>\n",
       "      <td>1</td>\n",
       "    </tr>\n",
       "    <tr>\n",
       "      <th>3</th>\n",
       "      <td>31</td>\n",
       "      <td>65</td>\n",
       "      <td>4</td>\n",
       "      <td>1</td>\n",
       "    </tr>\n",
       "    <tr>\n",
       "      <th>4</th>\n",
       "      <td>33</td>\n",
       "      <td>58</td>\n",
       "      <td>10</td>\n",
       "      <td>1</td>\n",
       "    </tr>\n",
       "    <tr>\n",
       "      <th>...</th>\n",
       "      <td>...</td>\n",
       "      <td>...</td>\n",
       "      <td>...</td>\n",
       "      <td>...</td>\n",
       "    </tr>\n",
       "    <tr>\n",
       "      <th>300</th>\n",
       "      <td>75</td>\n",
       "      <td>62</td>\n",
       "      <td>1</td>\n",
       "      <td>1</td>\n",
       "    </tr>\n",
       "    <tr>\n",
       "      <th>301</th>\n",
       "      <td>76</td>\n",
       "      <td>67</td>\n",
       "      <td>0</td>\n",
       "      <td>1</td>\n",
       "    </tr>\n",
       "    <tr>\n",
       "      <th>302</th>\n",
       "      <td>77</td>\n",
       "      <td>65</td>\n",
       "      <td>3</td>\n",
       "      <td>1</td>\n",
       "    </tr>\n",
       "    <tr>\n",
       "      <th>303</th>\n",
       "      <td>78</td>\n",
       "      <td>65</td>\n",
       "      <td>1</td>\n",
       "      <td>2</td>\n",
       "    </tr>\n",
       "    <tr>\n",
       "      <th>304</th>\n",
       "      <td>83</td>\n",
       "      <td>58</td>\n",
       "      <td>2</td>\n",
       "      <td>2</td>\n",
       "    </tr>\n",
       "  </tbody>\n",
       "</table>\n",
       "<p>305 rows × 4 columns</p>\n",
       "</div>"
      ],
      "text/plain": [
       "     Age  Year  Auxillary nodes  Survival \n",
       "0     30    62                3          1\n",
       "1     30    65                0          1\n",
       "2     31    59                2          1\n",
       "3     31    65                4          1\n",
       "4     33    58               10          1\n",
       "..   ...   ...              ...        ...\n",
       "300   75    62                1          1\n",
       "301   76    67                0          1\n",
       "302   77    65                3          1\n",
       "303   78    65                1          2\n",
       "304   83    58                2          2\n",
       "\n",
       "[305 rows x 4 columns]"
      ]
     },
     "execution_count": 15,
     "metadata": {},
     "output_type": "execute_result"
    }
   ],
   "source": [
    "import pandas as pd\n",
    "data = pd.read_csv(\"c:\\cancer.csv\")\n",
    "\n",
    "data"
   ]
  },
  {
   "cell_type": "markdown",
   "id": "13781e2f",
   "metadata": {},
   "source": [
    "# QUESTION 1(a)"
   ]
  },
  {
   "cell_type": "code",
   "execution_count": 3,
   "id": "5b02af92",
   "metadata": {
    "scrolled": true
   },
   "outputs": [
    {
     "data": {
      "text/html": [
       "<div>\n",
       "<style scoped>\n",
       "    .dataframe tbody tr th:only-of-type {\n",
       "        vertical-align: middle;\n",
       "    }\n",
       "\n",
       "    .dataframe tbody tr th {\n",
       "        vertical-align: top;\n",
       "    }\n",
       "\n",
       "    .dataframe thead th {\n",
       "        text-align: right;\n",
       "    }\n",
       "</style>\n",
       "<table border=\"1\" class=\"dataframe\">\n",
       "  <thead>\n",
       "    <tr style=\"text-align: right;\">\n",
       "      <th></th>\n",
       "      <th>Age</th>\n",
       "      <th>Year</th>\n",
       "      <th>Auxillary nodes</th>\n",
       "      <th>Survival</th>\n",
       "    </tr>\n",
       "  </thead>\n",
       "  <tbody>\n",
       "    <tr>\n",
       "      <th>count</th>\n",
       "      <td>305.000000</td>\n",
       "      <td>305.000000</td>\n",
       "      <td>305.000000</td>\n",
       "      <td>305.000000</td>\n",
       "    </tr>\n",
       "    <tr>\n",
       "      <th>mean</th>\n",
       "      <td>52.531148</td>\n",
       "      <td>62.849180</td>\n",
       "      <td>4.036066</td>\n",
       "      <td>1.265574</td>\n",
       "    </tr>\n",
       "    <tr>\n",
       "      <th>std</th>\n",
       "      <td>10.744024</td>\n",
       "      <td>3.254078</td>\n",
       "      <td>7.199370</td>\n",
       "      <td>0.442364</td>\n",
       "    </tr>\n",
       "    <tr>\n",
       "      <th>min</th>\n",
       "      <td>30.000000</td>\n",
       "      <td>58.000000</td>\n",
       "      <td>0.000000</td>\n",
       "      <td>1.000000</td>\n",
       "    </tr>\n",
       "    <tr>\n",
       "      <th>25%</th>\n",
       "      <td>44.000000</td>\n",
       "      <td>60.000000</td>\n",
       "      <td>0.000000</td>\n",
       "      <td>1.000000</td>\n",
       "    </tr>\n",
       "    <tr>\n",
       "      <th>50%</th>\n",
       "      <td>52.000000</td>\n",
       "      <td>63.000000</td>\n",
       "      <td>1.000000</td>\n",
       "      <td>1.000000</td>\n",
       "    </tr>\n",
       "    <tr>\n",
       "      <th>75%</th>\n",
       "      <td>61.000000</td>\n",
       "      <td>66.000000</td>\n",
       "      <td>4.000000</td>\n",
       "      <td>2.000000</td>\n",
       "    </tr>\n",
       "    <tr>\n",
       "      <th>max</th>\n",
       "      <td>83.000000</td>\n",
       "      <td>69.000000</td>\n",
       "      <td>52.000000</td>\n",
       "      <td>2.000000</td>\n",
       "    </tr>\n",
       "  </tbody>\n",
       "</table>\n",
       "</div>"
      ],
      "text/plain": [
       "              Age        Year  Auxillary nodes   Survival \n",
       "count  305.000000  305.000000       305.000000  305.000000\n",
       "mean    52.531148   62.849180         4.036066    1.265574\n",
       "std     10.744024    3.254078         7.199370    0.442364\n",
       "min     30.000000   58.000000         0.000000    1.000000\n",
       "25%     44.000000   60.000000         0.000000    1.000000\n",
       "50%     52.000000   63.000000         1.000000    1.000000\n",
       "75%     61.000000   66.000000         4.000000    2.000000\n",
       "max     83.000000   69.000000        52.000000    2.000000"
      ]
     },
     "execution_count": 3,
     "metadata": {},
     "output_type": "execute_result"
    }
   ],
   "source": [
    "data.describe()"
   ]
  },
  {
   "cell_type": "markdown",
   "id": "b523824c",
   "metadata": {},
   "source": [
    "ALL THE VARIABLES HAVE A DECENT IMPACTON THE OVERALL MODEL. COMPARING THE MEAN VALUES , \"YEAR\" HAS THE BIGGEST IMPACT ON THE \n",
    "OVERALL PREDICTION AND \"SURVIVAL\" HAS A VERY LITTLE IMPACT."
   ]
  },
  {
   "cell_type": "markdown",
   "id": "90e43ce5",
   "metadata": {},
   "source": [
    "# QUESTION 1(b)"
   ]
  },
  {
   "cell_type": "code",
   "execution_count": 4,
   "id": "a6419b74",
   "metadata": {},
   "outputs": [
    {
     "data": {
      "text/html": [
       "<div>\n",
       "<style scoped>\n",
       "    .dataframe tbody tr th:only-of-type {\n",
       "        vertical-align: middle;\n",
       "    }\n",
       "\n",
       "    .dataframe tbody tr th {\n",
       "        vertical-align: top;\n",
       "    }\n",
       "\n",
       "    .dataframe thead th {\n",
       "        text-align: right;\n",
       "    }\n",
       "</style>\n",
       "<table border=\"1\" class=\"dataframe\">\n",
       "  <thead>\n",
       "    <tr style=\"text-align: right;\">\n",
       "      <th></th>\n",
       "      <th>Age</th>\n",
       "      <th>Year</th>\n",
       "      <th>Auxillary nodes</th>\n",
       "      <th>Survival</th>\n",
       "    </tr>\n",
       "  </thead>\n",
       "  <tbody>\n",
       "    <tr>\n",
       "      <th>Age</th>\n",
       "      <td>1.000000</td>\n",
       "      <td>0.092623</td>\n",
       "      <td>-0.066548</td>\n",
       "      <td>0.064351</td>\n",
       "    </tr>\n",
       "    <tr>\n",
       "      <th>Year</th>\n",
       "      <td>0.092623</td>\n",
       "      <td>1.000000</td>\n",
       "      <td>-0.003277</td>\n",
       "      <td>-0.004076</td>\n",
       "    </tr>\n",
       "    <tr>\n",
       "      <th>Auxillary nodes</th>\n",
       "      <td>-0.066548</td>\n",
       "      <td>-0.003277</td>\n",
       "      <td>1.000000</td>\n",
       "      <td>0.286191</td>\n",
       "    </tr>\n",
       "    <tr>\n",
       "      <th>Survival</th>\n",
       "      <td>0.064351</td>\n",
       "      <td>-0.004076</td>\n",
       "      <td>0.286191</td>\n",
       "      <td>1.000000</td>\n",
       "    </tr>\n",
       "  </tbody>\n",
       "</table>\n",
       "</div>"
      ],
      "text/plain": [
       "                      Age      Year  Auxillary nodes  Survival \n",
       "Age              1.000000  0.092623        -0.066548   0.064351\n",
       "Year             0.092623  1.000000        -0.003277  -0.004076\n",
       "Auxillary nodes -0.066548 -0.003277         1.000000   0.286191\n",
       "Survival         0.064351 -0.004076         0.286191   1.000000"
      ]
     },
     "execution_count": 4,
     "metadata": {},
     "output_type": "execute_result"
    }
   ],
   "source": [
    "corr = data.corr()\n",
    "\n",
    "corr"
   ]
  },
  {
   "cell_type": "code",
   "execution_count": 5,
   "id": "6e9f48ef",
   "metadata": {},
   "outputs": [
    {
     "data": {
      "image/png": "[encoded data removed]",
      "text/plain": [
       "<Figure size 432x288 with 2 Axes>"
      ]
     },
     "metadata": {
      "needs_background": "light"
     },
     "output_type": "display_data"
    }
   ],
   "source": [
    "%matplotlib inline\n",
    "\n",
    "import seaborn as sns\n",
    "import matplotlib.pyplot as plt\n",
    "\n",
    "sns.heatmap(corr)\n",
    "\n",
    "plt.show()"
   ]
  },
  {
   "cell_type": "markdown",
   "id": "979bd9e2",
   "metadata": {},
   "source": [
    "AGE IS POSITIVELY CORRELATED WITH THE OTHER VARIABLES LIKE \"YEAR\" & \"SURVIVAL\" AND NEGATIVELY CORRELATED WITH \"AUXILLARY NODES\"\n",
    "YEAR IS POSITIVELY CORRELATED WITH THE OTHER VARIABLES LIKE \"AGE\" AND NEGATIVELY CORRELATED WITH \"AUXILLARY NODES\" & \"SURVIVAL\"\n",
    "AUXIALLARY NODES IS POSITIVELY CORRELATED WITH  \"SURVIVAL\" AND NEGATIVELY CORRELATED WITH \"YEAR\" & \"AGE\"\n",
    "SURVIVAL IS POSITIVELY CORRELATED WITH THE OTHER VARIABLES LIKE \"AUXILLARY NODE\" & \"AGE\" AND NEGATIVELY CORRELATED WITH \"YEAR\" \n",
    "\n",
    "\n"
   ]
  },
  {
   "cell_type": "markdown",
   "id": "dbc69f5b",
   "metadata": {},
   "source": [
    "# QUESTION 1(c)"
   ]
  },
  {
   "cell_type": "code",
   "execution_count": 6,
   "id": "ddc10998",
   "metadata": {},
   "outputs": [
    {
     "data": {
      "text/plain": [
       "array([[<AxesSubplot:title={'center':'Age'}>,\n",
       "        <AxesSubplot:title={'center':'Year'}>],\n",
       "       [<AxesSubplot:title={'center':'Auxillary nodes'}>,\n",
       "        <AxesSubplot:title={'center':'Survival '}>]], dtype=object)"
      ]
     },
     "execution_count": 6,
     "metadata": {},
     "output_type": "execute_result"
    },
    {
     "data": {
      "image/png": "[encoded data removed]",
      "text/plain": [
       "<Figure size 432x288 with 4 Axes>"
      ]
     },
     "metadata": {
      "needs_background": "light"
     },
     "output_type": "display_data"
    }
   ],
   "source": [
    "data.hist()"
   ]
  },
  {
   "cell_type": "markdown",
   "id": "4c50ee5d",
   "metadata": {},
   "source": [
    "AGE  : CENTERED \n",
    "YEAR : SKEWED TO THE LEFT\n",
    "AUXILLARY NODES : SKEWED TO THE LEFT\n",
    "SURVIVAL :"
   ]
  },
  {
   "cell_type": "markdown",
   "id": "70347de5",
   "metadata": {},
   "source": [
    "# QUESTION 2 (a)"
   ]
  },
  {
   "cell_type": "code",
   "execution_count": 13,
   "id": "f7a76011",
   "metadata": {},
   "outputs": [],
   "source": [
    "\n",
    "import pandas as pd\n",
    "import matplotlib.pyplot as plt\n",
    "\n",
    "from sklearn.model_selection import train_test_split, KFold, GridSearchCV\n",
    "from sklearn.preprocessing import StandardScaler\n",
    "from sklearn.preprocessing import MinMaxScaler\n",
    "from sklearn.metrics import roc_auc_score, plot_roc_curve\n",
    "from sklearn.linear_model import LogisticRegression\n",
    "from sklearn.ensemble import RandomForestClassifier\n",
    "from sklearn.svm import SVC\n",
    "from sklearn.neural_network import MLPClassifier\n",
    "from sklearn.metrics import classification_report,confusion_matrix, ConfusionMatrixDisplay"
   ]
  },
  {
   "cell_type": "code",
   "execution_count": 20,
   "id": "876942fd",
   "metadata": {},
   "outputs": [
    {
     "data": {
      "text/html": [
       "<div>\n",
       "<style scoped>\n",
       "    .dataframe tbody tr th:only-of-type {\n",
       "        vertical-align: middle;\n",
       "    }\n",
       "\n",
       "    .dataframe tbody tr th {\n",
       "        vertical-align: top;\n",
       "    }\n",
       "\n",
       "    .dataframe thead th {\n",
       "        text-align: right;\n",
       "    }\n",
       "</style>\n",
       "<table border=\"1\" class=\"dataframe\">\n",
       "  <thead>\n",
       "    <tr style=\"text-align: right;\">\n",
       "      <th></th>\n",
       "      <th>Age</th>\n",
       "      <th>Year</th>\n",
       "      <th>Auxillary nodes</th>\n",
       "      <th>Survival</th>\n",
       "    </tr>\n",
       "  </thead>\n",
       "  <tbody>\n",
       "    <tr>\n",
       "      <th>0</th>\n",
       "      <td>30</td>\n",
       "      <td>62</td>\n",
       "      <td>3</td>\n",
       "      <td>1</td>\n",
       "    </tr>\n",
       "    <tr>\n",
       "      <th>1</th>\n",
       "      <td>30</td>\n",
       "      <td>65</td>\n",
       "      <td>0</td>\n",
       "      <td>1</td>\n",
       "    </tr>\n",
       "    <tr>\n",
       "      <th>2</th>\n",
       "      <td>31</td>\n",
       "      <td>59</td>\n",
       "      <td>2</td>\n",
       "      <td>1</td>\n",
       "    </tr>\n",
       "    <tr>\n",
       "      <th>3</th>\n",
       "      <td>31</td>\n",
       "      <td>65</td>\n",
       "      <td>4</td>\n",
       "      <td>1</td>\n",
       "    </tr>\n",
       "    <tr>\n",
       "      <th>4</th>\n",
       "      <td>33</td>\n",
       "      <td>58</td>\n",
       "      <td>10</td>\n",
       "      <td>1</td>\n",
       "    </tr>\n",
       "    <tr>\n",
       "      <th>...</th>\n",
       "      <td>...</td>\n",
       "      <td>...</td>\n",
       "      <td>...</td>\n",
       "      <td>...</td>\n",
       "    </tr>\n",
       "    <tr>\n",
       "      <th>300</th>\n",
       "      <td>75</td>\n",
       "      <td>62</td>\n",
       "      <td>1</td>\n",
       "      <td>1</td>\n",
       "    </tr>\n",
       "    <tr>\n",
       "      <th>301</th>\n",
       "      <td>76</td>\n",
       "      <td>67</td>\n",
       "      <td>0</td>\n",
       "      <td>1</td>\n",
       "    </tr>\n",
       "    <tr>\n",
       "      <th>302</th>\n",
       "      <td>77</td>\n",
       "      <td>65</td>\n",
       "      <td>3</td>\n",
       "      <td>1</td>\n",
       "    </tr>\n",
       "    <tr>\n",
       "      <th>303</th>\n",
       "      <td>78</td>\n",
       "      <td>65</td>\n",
       "      <td>1</td>\n",
       "      <td>2</td>\n",
       "    </tr>\n",
       "    <tr>\n",
       "      <th>304</th>\n",
       "      <td>83</td>\n",
       "      <td>58</td>\n",
       "      <td>2</td>\n",
       "      <td>2</td>\n",
       "    </tr>\n",
       "  </tbody>\n",
       "</table>\n",
       "<p>305 rows × 4 columns</p>\n",
       "</div>"
      ],
      "text/plain": [
       "     Age  Year  Auxillary nodes  Survival \n",
       "0     30    62                3          1\n",
       "1     30    65                0          1\n",
       "2     31    59                2          1\n",
       "3     31    65                4          1\n",
       "4     33    58               10          1\n",
       "..   ...   ...              ...        ...\n",
       "300   75    62                1          1\n",
       "301   76    67                0          1\n",
       "302   77    65                3          1\n",
       "303   78    65                1          2\n",
       "304   83    58                2          2\n",
       "\n",
       "[305 rows x 4 columns]"
      ]
     },
     "execution_count": 20,
     "metadata": {},
     "output_type": "execute_result"
    }
   ],
   "source": [
    "data = pd.read_csv(\"c:\\cancer.csv\")\n",
    "\n",
    "# Create features/inputs\n",
    "X = data.drop(columns = [\"Survival \"])\n",
    "\n",
    "# Create the output/class\n",
    "y = data[\"Survival \"]\n",
    "\n",
    "# Splitting into training and testing datasets\n",
    "X_train, X_test, y_train, y_test = train_test_split(X, y, random_state = 10, train_size = 0.6)\n",
    "\n",
    "data"
   ]
  },
  {
   "cell_type": "code",
   "execution_count": 21,
   "id": "cc997b48",
   "metadata": {},
   "outputs": [
    {
     "name": "stdout",
     "output_type": "stream",
     "text": [
      "              precision    recall  f1-score   support\n",
      "\n",
      "           1       0.82      0.94      0.88        97\n",
      "           2       0.45      0.20      0.28        25\n",
      "\n",
      "    accuracy                           0.79       122\n",
      "   macro avg       0.64      0.57      0.58       122\n",
      "weighted avg       0.74      0.79      0.75       122\n",
      "\n"
     ]
    },
    {
     "data": {
      "image/png": "[encoded data removed]",
      "text/plain": [
       "<Figure size 432x288 with 2 Axes>"
      ]
     },
     "metadata": {
      "needs_background": "light"
     },
     "output_type": "display_data"
    },
    {
     "data": {
      "image/png": "[encoded data removed]",
      "text/plain": [
       "<Figure size 432x288 with 1 Axes>"
      ]
     },
     "metadata": {
      "needs_background": "light"
     },
     "output_type": "display_data"
    }
   ],
   "source": [
    "clf = LogisticRegression(solver = \"lbfgs\", penalty = \"l2\", C = 0.01, random_state = 10).fit(X_train, y_train)\n",
    "clf.score(X_test, y_test)\n",
    "y_pred = clf.predict(X_test)\n",
    "labels = [\"survived\", \"died\"]\n",
    "cm = confusion_matrix(y_test, y_pred, labels = clf.classes_)\n",
    "disp = ConfusionMatrixDisplay(confusion_matrix = cm, display_labels = labels)\n",
    "disp.plot()\n",
    "print(classification_report(y_test, y_pred, labels = clf.classes_))\n",
    "plot_roc_curve(clf, X_test, y_test) \n",
    "plt.show()"
   ]
  },
  {
   "cell_type": "markdown",
   "id": "7677fc50",
   "metadata": {},
   "source": [
    "INTERPRETATION FOR MODEL 1 :\n",
    "THE ACCURACY OF THE MODEL IS 64%\n",
    "FALSE POSITIVE : THE MODEL PREDICTED 6 PATIENTS WHO SURVIVED AFTER DIAGNOSIS TO BE DEAD\n",
    "FALSE NEGATIVE : THE MODEL PREDICTED 20 PATIENTS WHO ARE DEAD TO BE SURVIVED, WHICH IS MORE DANGEROUS THAN THE FALSE POSITIVE\n",
    "                 OCCURANCE."
   ]
  },
  {
   "cell_type": "markdown",
   "id": "e88922e5",
   "metadata": {},
   "source": [
    "# QUESTION 2(b)"
   ]
  },
  {
   "cell_type": "code",
   "execution_count": 33,
   "id": "a1349d4e",
   "metadata": {},
   "outputs": [
    {
     "name": "stdout",
     "output_type": "stream",
     "text": [
      "              precision    recall  f1-score   support\n",
      "\n",
      "           1       0.83      0.91      0.87        97\n",
      "           2       0.44      0.28      0.34        25\n",
      "\n",
      "    accuracy                           0.78       122\n",
      "   macro avg       0.63      0.59      0.60       122\n",
      "weighted avg       0.75      0.78      0.76       122\n",
      "\n"
     ]
    },
    {
     "data": {
      "image/png": "[encoded data removed]",
      "text/plain": [
       "<Figure size 432x288 with 2 Axes>"
      ]
     },
     "metadata": {
      "needs_background": "light"
     },
     "output_type": "display_data"
    }
   ],
   "source": [
    "rf = RandomForestClassifier(n_estimators = 10, max_depth = 5, max_features = 'sqrt', random_state = 0).fit(X_train, y_train)\n",
    "rf_pred = rf.predict(X_test)\n",
    "cm_rf = confusion_matrix(y_test, rf_pred, labels = clf.classes_)\n",
    "disp = ConfusionMatrixDisplay(confusion_matrix = cm_rf, display_labels = labels)\n",
    "disp.plot()\n",
    "print(classification_report(y_test, rf_pred, labels = clf.classes_))"
   ]
  },
  {
   "cell_type": "markdown",
   "id": "3b11fc51",
   "metadata": {},
   "source": [
    "INTERPRETATION FOR MODEL 2 : THE ACCURACY OF THE MODEL IS 63% FALSE POSITIVE : THE MODEL PREDICTED 9 PATIENTS WHO SURVIVED AFTER DIAGNOSIS TO BE DEAD FALSE NEGATIVE : THE MODEL PREDICTED 18 PATIENTS WHO ARE DEAD TO BE SURVIVED, WHICH IS MORE DANGEROUS THAN THE FALSE POSITIVE OCCURANCE."
   ]
  },
  {
   "cell_type": "markdown",
   "id": "b700acfa",
   "metadata": {},
   "source": [
    "# QUESTION 2(c)"
   ]
  },
  {
   "cell_type": "code",
   "execution_count": 30,
   "id": "6385ad8c",
   "metadata": {},
   "outputs": [
    {
     "name": "stdout",
     "output_type": "stream",
     "text": [
      "              precision    recall  f1-score   support\n",
      "\n",
      "           1       0.82      0.90      0.86        97\n",
      "           2       0.38      0.24      0.29        25\n",
      "\n",
      "    accuracy                           0.76       122\n",
      "   macro avg       0.60      0.57      0.57       122\n",
      "weighted avg       0.73      0.76      0.74       122\n",
      "\n"
     ]
    },
    {
     "data": {
      "image/png": "[encoded data removed]",
      "text/plain": [
       "<Figure size 432x288 with 2 Axes>"
      ]
     },
     "metadata": {
      "needs_background": "light"
     },
     "output_type": "display_data"
    }
   ],
   "source": [
    "svm = SVC(random_state = 0, kernel = \"rbf\", gamma = 1).fit(X_train, y_train)\n",
    "svm_pred = svm.predict(X_test)\n",
    "cm_svm = confusion_matrix(y_test, svm_pred, labels = clf.classes_)\n",
    "disp = ConfusionMatrixDisplay(confusion_matrix = cm_svm, display_labels = labels)\n",
    "disp.plot()\n",
    "print(classification_report(y_test, svm_pred, labels = clf.classes_))"
   ]
  },
  {
   "cell_type": "markdown",
   "id": "01f23d7c",
   "metadata": {},
   "source": [
    "INTERPRETATION FOR MODEL 3 : THE ACCURACY OF THE MODEL IS 60% FALSE POSITIVE : THE MODEL PREDICTED 10 PATIENTS WHO SURVIVED AFTER DIAGNOSIS TO BE DEAD FALSE NEGATIVE : THE MODEL PREDICTED 19 PATIENTS WHO ARE DEAD TO BE SURVIVED, WHICH IS MORE DANGEROUS THAN THE FALSE POSITIVE OCCURANCE."
   ]
  },
  {
   "cell_type": "markdown",
   "id": "4cfb58fa",
   "metadata": {},
   "source": [
    "# QUESTION 2(d)"
   ]
  },
  {
   "cell_type": "code",
   "execution_count": 24,
   "id": "72388cbb",
   "metadata": {
    "scrolled": false
   },
   "outputs": [
    {
     "name": "stdout",
     "output_type": "stream",
     "text": [
      "              precision    recall  f1-score   support\n",
      "\n",
      "           1       0.82      0.87      0.84        97\n",
      "           2       0.35      0.28      0.31        25\n",
      "\n",
      "    accuracy                           0.75       122\n",
      "   macro avg       0.59      0.57      0.58       122\n",
      "weighted avg       0.73      0.75      0.73       122\n",
      "\n"
     ]
    },
    {
     "data": {
      "image/png": "[encoded data removed]",
      "text/plain": [
       "<Figure size 432x288 with 2 Axes>"
      ]
     },
     "metadata": {
      "needs_background": "light"
     },
     "output_type": "display_data"
    }
   ],
   "source": [
    "nn = MLPClassifier(solver = 'lbfgs', alpha = 0.0001, hidden_layer_sizes = (15,), random_state = 1, activation = \"relu\", learning_rate_init = 0.01).fit(X_train, y_train)\n",
    "\n",
    "nn_pred = nn.predict(X_test)\n",
    "\n",
    "cm_nn = confusion_matrix(y_test, nn_pred, labels = clf.classes_)\n",
    "disp = ConfusionMatrixDisplay(confusion_matrix = cm_nn, display_labels = labels)\n",
    "disp.plot()\n",
    "print(classification_report(y_test, nn_pred, labels = clf.classes_))"
   ]
  },
  {
   "cell_type": "markdown",
   "id": "baf7fee6",
   "metadata": {},
   "source": [
    "INTERPRETATION FOR MODEL 4 : THE ACCURACY OF THE MODEL IS 59% FALSE POSITIVE : THE MODEL PREDICTED 13 PATIENTS WHO SURVIVED AFTER DIAGNOSIS TO BE DEAD FALSE NEGATIVE : THE MODEL PREDICTED 18 PATIENTS WHO ARE DEAD TO BE SURVIVED, WHICH IS MORE DANGEROUS THAN THE FALSE POSITIVE OCCURANCE."
   ]
  },
  {
   "cell_type": "code",
   "execution_count": 25,
   "id": "83b50d76",
   "metadata": {},
   "outputs": [
    {
     "name": "stdout",
     "output_type": "stream",
     "text": [
      "Accuracy for iteration 1 is 0.6842105263157895\n",
      "Accuracy for iteration 2 is 0.7894736842105263\n",
      "Accuracy for iteration 3 is 0.631578947368421\n",
      "Accuracy for iteration 4 is 0.7222222222222222\n",
      "Accuracy for iteration 5 is 0.6666666666666666\n",
      "Accuracy for iteration 6 is 0.8333333333333334\n",
      "Accuracy for iteration 7 is 0.8333333333333334\n",
      "Accuracy for iteration 8 is 0.7777777777777778\n",
      "Accuracy for iteration 9 is 0.6666666666666666\n",
      "Accuracy for iteration 10 is 0.6666666666666666\n"
     ]
    }
   ],
   "source": [
    "# Use 10 - fold cross validation\n",
    "kf = KFold(n_splits=10)\n",
    "\n",
    "iteration = 1\n",
    "for train_indices, test_indices in kf.split(X_train):\n",
    "    clf.fit(X_train.iloc[train_indices], y_train.iloc[train_indices])\n",
    "    print(\"Accuracy for iteration \"+ str(iteration) + \" is \" + str(clf.score(X_train.iloc[test_indices], y_train.iloc[test_indices])))\n",
    "    iteration += 1"
   ]
  },
  {
   "cell_type": "code",
   "execution_count": 26,
   "id": "e74fb43a",
   "metadata": {},
   "outputs": [
    {
     "data": {
      "text/plain": [
       "{'C': 1, 'kernel': 'linear'}"
      ]
     },
     "execution_count": 26,
     "metadata": {},
     "output_type": "execute_result"
    }
   ],
   "source": [
    "# Use GridSearchCV for searching through hyper parameters\n",
    "parameters = {'kernel':('linear', 'rbf', 'poly'), 'C':[1, 10]}\n",
    "\n",
    "svm_grid = GridSearchCV(svm, parameters)\n",
    "svm_grid.fit(X_train, y_train)\n",
    "svm_grid.best_params_"
   ]
  },
  {
   "cell_type": "markdown",
   "id": "27b69f88",
   "metadata": {},
   "source": [
    "OUT OF THE FOUR MODELS THE BEST MODEL IS \" RANDOMFOREST\", THE FALSE POSITIVE AND THE FALSE NEGATIVE SHULD BE LOW FOR THE MODEL\n",
    "TO BE A BEST FIT. IN THIS CASE THE FALSE NEGATIVE IS MORE DANGEROUS THAN THE FALSE POSITIVE. THE PATIENTS WHO ARE DEAD ARE \n",
    "PREDICTED TO BE SURVIVED BY THE MODELS INACCURATELY WHICH IS DANGEROUS. THEREFORE , CONSIDERING THE VALUE OF FALSE NEGATIVES\n",
    "IN ALL THE 4 MODELS , THE MODEL 2 & 4 HAS THE LEAST NO OF FALSE NEGATIVES. COMPARING THE ACCURACIES OF BOTH MODEL WE CAN \n",
    "CONCLUDE THAT THE MODEL 2 IS THE  BEST FIT.\n",
    "\n",
    "THEREFORE , RANDOM FORESTCLASSIFICATION IS THE BEST FIT MODEL\n"
   ]
  },
  {
   "cell_type": "markdown",
   "id": "7a03a125",
   "metadata": {},
   "source": [
    "# QUESTION NO 3"
   ]
  },
  {
   "cell_type": "code",
   "execution_count": 31,
   "id": "15dd3bac",
   "metadata": {},
   "outputs": [
    {
     "name": "stdout",
     "output_type": "stream",
     "text": [
      "Accuracy for iteration 1 is 0.6842105263157895\n",
      "Accuracy for iteration 2 is 0.7894736842105263\n",
      "Accuracy for iteration 3 is 0.631578947368421\n",
      "Accuracy for iteration 4 is 0.7222222222222222\n",
      "Accuracy for iteration 5 is 0.6666666666666666\n",
      "Accuracy for iteration 6 is 0.8333333333333334\n",
      "Accuracy for iteration 7 is 0.8333333333333334\n",
      "Accuracy for iteration 8 is 0.7777777777777778\n",
      "Accuracy for iteration 9 is 0.6666666666666666\n",
      "Accuracy for iteration 10 is 0.6666666666666666\n"
     ]
    }
   ],
   "source": [
    "# Use 10 - fold cross validation\n",
    "kf = KFold(n_splits=10)\n",
    "\n",
    "iteration = 1\n",
    "for train_indices, test_indices in kf.split(X_train):\n",
    "    clf.fit(X_train.iloc[train_indices], y_train.iloc[train_indices])\n",
    "    print(\"Accuracy for iteration \"+ str(iteration) + \" is \" + str(clf.score(X_train.iloc[test_indices], y_train.iloc[test_indices])))\n",
    "    iteration += 1"
   ]
  },
  {
   "cell_type": "markdown",
   "id": "100d8da2",
   "metadata": {},
   "source": [
    " THE AVERAGE  ACCURACY OF THE 10 ITERATIONS = 0.980502,\n",
    " THE AVERAGE ACCURACY FOR MODEL 1 = 0.64,\n",
    " THE AVERAGE ACCURACY FOR MODEL 2 = 0.63,\n",
    " THE AVERAGE ACCURACY FOR MODEL 3 = 0.60,\n",
    " THE AVERAGE ACCURACY FOR MODEL 4 = 0.5.\n",
    "    \n",
    "SINCE THE MODEL IS PERFORMING EXTREMELY WELL IN THE VALIDATION SET AND PERFORMING POOR IN THE ACTUAL TESTING SET, THE MODELS ARE \n",
    "OVER FITTING FOR THE TRAINING DATA.\n",
    " \n"
   ]
  },
  {
   "cell_type": "code",
   "execution_count": 34,
   "id": "0f99a877",
   "metadata": {},
   "outputs": [],
   "source": [
    "import pandas as pd\n",
    "import numpy as np\n",
    "import matplotlib.pyplot as plt\n",
    "\n",
    "# Import Clustering algorithms\n",
    "from sklearn.cluster import KMeans\n",
    "from sklearn.cluster import AffinityPropagation\n",
    "from sklearn.mixture import GaussianMixture\n",
    "from sklearn.cluster import Birch\n",
    "\n",
    "# Evaluate accuracy\n",
    "from sklearn.metrics import accuracy_score"
   ]
  },
  {
   "cell_type": "code",
   "execution_count": 35,
   "id": "6e90baae",
   "metadata": {},
   "outputs": [],
   "source": [
    "# Selecting features for clustering\n",
    "\n",
    "X = data[data.columns[0:2]]\n",
    "\n",
    "y = data[\"Survival \"]"
   ]
  },
  {
   "cell_type": "code",
   "execution_count": 42,
   "id": "75c5843d",
   "metadata": {},
   "outputs": [
    {
     "data": {
      "text/plain": [
       "<AxesSubplot:xlabel='Age', ylabel='Year'>"
      ]
     },
     "execution_count": 42,
     "metadata": {},
     "output_type": "execute_result"
    },
    {
     "data": {
      "image/png": "[encoded data removed]",
      "text/plain": [
       "<Figure size 432x288 with 1 Axes>"
      ]
     },
     "metadata": {
      "needs_background": "light"
     },
     "output_type": "display_data"
    }
   ],
   "source": [
    "X.plot.scatter(x = \"Age\", y = \"Year\")"
   ]
  }
 ],
 "metadata": {
  "kernelspec": {
   "display_name": "Python 3 (ipykernel)",
   "language": "python",
   "name": "python3"
  },
  "language_info": {
   "codemirror_mode": {
    "name": "ipython",
    "version": 3
   },
   "file_extension": ".py",
   "mimetype": "text/x-python",
   "name": "python",
   "nbconvert_exporter": "python",
   "pygments_lexer": "ipython3",
   "version": "3.9.7"
  }
 },
 "nbformat": 4,
 "nbformat_minor": 5
}
